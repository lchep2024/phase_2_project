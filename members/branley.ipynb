{
 "cells": [
  {
   "cell_type": "markdown",
   "metadata": {},
   "source": [
    "# INTRODUCTION"
   ]
  },
  {
   "cell_type": "markdown",
   "metadata": {},
   "source": [
    "# Problem Statement"
   ]
  },
  {
   "cell_type": "markdown",
   "metadata": {},
   "source": [
    "# Objectives"
   ]
  },
  {
   "cell_type": "markdown",
   "metadata": {},
   "source": [
    "# Data loading\n",
    "\n",
    "First, we import the necessary python libraries"
   ]
  },
  {
   "cell_type": "code",
   "execution_count": 1,
   "metadata": {},
   "outputs": [],
   "source": [
    "# importing necessary libraries\n",
    "import pandas as pd\n",
    "import numpy as np\n",
    "import matplotlib.pyplot as plt\n",
    "import seaborn as sns"
   ]
  },
  {
   "cell_type": "markdown",
   "metadata": {},
   "source": [
    "Next we load the dataset using pandas, and look at the first 5 rows."
   ]
  },
  {
   "cell_type": "code",
   "execution_count": 2,
   "metadata": {},
   "outputs": [
    {
     "data": {
      "text/html": [
       "<div>\n",
       "<style scoped>\n",
       "    .dataframe tbody tr th:only-of-type {\n",
       "        vertical-align: middle;\n",
       "    }\n",
       "\n",
       "    .dataframe tbody tr th {\n",
       "        vertical-align: top;\n",
       "    }\n",
       "\n",
       "    .dataframe thead th {\n",
       "        text-align: right;\n",
       "    }\n",
       "</style>\n",
       "<table border=\"1\" class=\"dataframe\">\n",
       "  <thead>\n",
       "    <tr style=\"text-align: right;\">\n",
       "      <th></th>\n",
       "      <th>id</th>\n",
       "      <th>date</th>\n",
       "      <th>price</th>\n",
       "      <th>bedrooms</th>\n",
       "      <th>bathrooms</th>\n",
       "      <th>sqft_living</th>\n",
       "      <th>sqft_lot</th>\n",
       "      <th>floors</th>\n",
       "      <th>waterfront</th>\n",
       "      <th>view</th>\n",
       "      <th>...</th>\n",
       "      <th>grade</th>\n",
       "      <th>sqft_above</th>\n",
       "      <th>sqft_basement</th>\n",
       "      <th>yr_built</th>\n",
       "      <th>yr_renovated</th>\n",
       "      <th>zipcode</th>\n",
       "      <th>lat</th>\n",
       "      <th>long</th>\n",
       "      <th>sqft_living15</th>\n",
       "      <th>sqft_lot15</th>\n",
       "    </tr>\n",
       "  </thead>\n",
       "  <tbody>\n",
       "    <tr>\n",
       "      <th>0</th>\n",
       "      <td>7129300520</td>\n",
       "      <td>10/13/2014</td>\n",
       "      <td>221900.0</td>\n",
       "      <td>3</td>\n",
       "      <td>1.00</td>\n",
       "      <td>1180</td>\n",
       "      <td>5650</td>\n",
       "      <td>1.0</td>\n",
       "      <td>NaN</td>\n",
       "      <td>NONE</td>\n",
       "      <td>...</td>\n",
       "      <td>7 Average</td>\n",
       "      <td>1180</td>\n",
       "      <td>0.0</td>\n",
       "      <td>1955</td>\n",
       "      <td>0.0</td>\n",
       "      <td>98178</td>\n",
       "      <td>47.5112</td>\n",
       "      <td>-122.257</td>\n",
       "      <td>1340</td>\n",
       "      <td>5650</td>\n",
       "    </tr>\n",
       "    <tr>\n",
       "      <th>1</th>\n",
       "      <td>6414100192</td>\n",
       "      <td>12/9/2014</td>\n",
       "      <td>538000.0</td>\n",
       "      <td>3</td>\n",
       "      <td>2.25</td>\n",
       "      <td>2570</td>\n",
       "      <td>7242</td>\n",
       "      <td>2.0</td>\n",
       "      <td>NO</td>\n",
       "      <td>NONE</td>\n",
       "      <td>...</td>\n",
       "      <td>7 Average</td>\n",
       "      <td>2170</td>\n",
       "      <td>400.0</td>\n",
       "      <td>1951</td>\n",
       "      <td>1991.0</td>\n",
       "      <td>98125</td>\n",
       "      <td>47.7210</td>\n",
       "      <td>-122.319</td>\n",
       "      <td>1690</td>\n",
       "      <td>7639</td>\n",
       "    </tr>\n",
       "    <tr>\n",
       "      <th>2</th>\n",
       "      <td>5631500400</td>\n",
       "      <td>2/25/2015</td>\n",
       "      <td>180000.0</td>\n",
       "      <td>2</td>\n",
       "      <td>1.00</td>\n",
       "      <td>770</td>\n",
       "      <td>10000</td>\n",
       "      <td>1.0</td>\n",
       "      <td>NO</td>\n",
       "      <td>NONE</td>\n",
       "      <td>...</td>\n",
       "      <td>6 Low Average</td>\n",
       "      <td>770</td>\n",
       "      <td>0.0</td>\n",
       "      <td>1933</td>\n",
       "      <td>NaN</td>\n",
       "      <td>98028</td>\n",
       "      <td>47.7379</td>\n",
       "      <td>-122.233</td>\n",
       "      <td>2720</td>\n",
       "      <td>8062</td>\n",
       "    </tr>\n",
       "    <tr>\n",
       "      <th>3</th>\n",
       "      <td>2487200875</td>\n",
       "      <td>12/9/2014</td>\n",
       "      <td>604000.0</td>\n",
       "      <td>4</td>\n",
       "      <td>3.00</td>\n",
       "      <td>1960</td>\n",
       "      <td>5000</td>\n",
       "      <td>1.0</td>\n",
       "      <td>NO</td>\n",
       "      <td>NONE</td>\n",
       "      <td>...</td>\n",
       "      <td>7 Average</td>\n",
       "      <td>1050</td>\n",
       "      <td>910.0</td>\n",
       "      <td>1965</td>\n",
       "      <td>0.0</td>\n",
       "      <td>98136</td>\n",
       "      <td>47.5208</td>\n",
       "      <td>-122.393</td>\n",
       "      <td>1360</td>\n",
       "      <td>5000</td>\n",
       "    </tr>\n",
       "    <tr>\n",
       "      <th>4</th>\n",
       "      <td>1954400510</td>\n",
       "      <td>2/18/2015</td>\n",
       "      <td>510000.0</td>\n",
       "      <td>3</td>\n",
       "      <td>2.00</td>\n",
       "      <td>1680</td>\n",
       "      <td>8080</td>\n",
       "      <td>1.0</td>\n",
       "      <td>NO</td>\n",
       "      <td>NONE</td>\n",
       "      <td>...</td>\n",
       "      <td>8 Good</td>\n",
       "      <td>1680</td>\n",
       "      <td>0.0</td>\n",
       "      <td>1987</td>\n",
       "      <td>0.0</td>\n",
       "      <td>98074</td>\n",
       "      <td>47.6168</td>\n",
       "      <td>-122.045</td>\n",
       "      <td>1800</td>\n",
       "      <td>7503</td>\n",
       "    </tr>\n",
       "  </tbody>\n",
       "</table>\n",
       "<p>5 rows × 21 columns</p>\n",
       "</div>"
      ],
      "text/plain": [
       "           id        date     price  bedrooms  bathrooms  sqft_living  \\\n",
       "0  7129300520  10/13/2014  221900.0         3       1.00         1180   \n",
       "1  6414100192   12/9/2014  538000.0         3       2.25         2570   \n",
       "2  5631500400   2/25/2015  180000.0         2       1.00          770   \n",
       "3  2487200875   12/9/2014  604000.0         4       3.00         1960   \n",
       "4  1954400510   2/18/2015  510000.0         3       2.00         1680   \n",
       "\n",
       "   sqft_lot  floors waterfront  view  ...          grade sqft_above  \\\n",
       "0      5650     1.0        NaN  NONE  ...      7 Average       1180   \n",
       "1      7242     2.0         NO  NONE  ...      7 Average       2170   \n",
       "2     10000     1.0         NO  NONE  ...  6 Low Average        770   \n",
       "3      5000     1.0         NO  NONE  ...      7 Average       1050   \n",
       "4      8080     1.0         NO  NONE  ...         8 Good       1680   \n",
       "\n",
       "   sqft_basement yr_built  yr_renovated  zipcode      lat     long  \\\n",
       "0            0.0     1955           0.0    98178  47.5112 -122.257   \n",
       "1          400.0     1951        1991.0    98125  47.7210 -122.319   \n",
       "2            0.0     1933           NaN    98028  47.7379 -122.233   \n",
       "3          910.0     1965           0.0    98136  47.5208 -122.393   \n",
       "4            0.0     1987           0.0    98074  47.6168 -122.045   \n",
       "\n",
       "   sqft_living15  sqft_lot15  \n",
       "0           1340        5650  \n",
       "1           1690        7639  \n",
       "2           2720        8062  \n",
       "3           1360        5000  \n",
       "4           1800        7503  \n",
       "\n",
       "[5 rows x 21 columns]"
      ]
     },
     "execution_count": 2,
     "metadata": {},
     "output_type": "execute_result"
    }
   ],
   "source": [
    "data = pd.read_csv('./data/kc_house_data.csv')\n",
    "data.head() "
   ]
  },
  {
   "cell_type": "markdown",
   "metadata": {},
   "source": [
    "## Description of columns"
   ]
  },
  {
   "cell_type": "code",
   "execution_count": 3,
   "metadata": {},
   "outputs": [
    {
     "data": {
      "text/plain": [
       "(21597, 21)"
      ]
     },
     "execution_count": 3,
     "metadata": {},
     "output_type": "execute_result"
    }
   ],
   "source": [
    "data.shape"
   ]
  },
  {
   "cell_type": "markdown",
   "metadata": {},
   "source": [
    "The dataset contains 21 columns and 21,597 rows.\n",
    "\n",
    "Now to go into more detail on the columns we have. We will use the `column_names.md` file to get more information about our columns."
   ]
  },
  {
   "cell_type": "code",
   "execution_count": 4,
   "metadata": {},
   "outputs": [
    {
     "data": {
      "text/plain": [
       "Index(['id', 'date', 'price', 'bedrooms', 'bathrooms', 'sqft_living',\n",
       "       'sqft_lot', 'floors', 'waterfront', 'view', 'condition', 'grade',\n",
       "       'sqft_above', 'sqft_basement', 'yr_built', 'yr_renovated', 'zipcode',\n",
       "       'lat', 'long', 'sqft_living15', 'sqft_lot15'],\n",
       "      dtype='object')"
      ]
     },
     "execution_count": 4,
     "metadata": {},
     "output_type": "execute_result"
    }
   ],
   "source": [
    "data.columns"
   ]
  },
  {
   "cell_type": "markdown",
   "metadata": {},
   "source": [
    "* `id` - Unique identifier for a house\n",
    "* `date` - Date house was sold\n",
    "* `price` - Sale price (prediction target)\n",
    "* `bedrooms` - Number of bedrooms\n",
    "* `bathrooms` - Number of bathrooms\n",
    "* `sqft_living` - Square footage of living space in the home\n",
    "* `sqft_lot` - Square footage of the lot\n",
    "* `floors` - Number of floors (levels) in house\n",
    "* `waterfront` - Whether the house is on a waterfront\n",
    "* `view` - Quality of view from house. An index from 0 to 4 of how good the view of the property was.\n",
    "* `condition` - How good the overall condition of the house is. Related to maintenance of house. An index from 1 to 5 on the condition of the house.\n",
    "* `grade` - Overall grade of the house. Related to the construction and design of the house, where 1-3 is poor, 4-6 is low average, 7 is average, 8-9 is good, and 10-13 is excellent.\n",
    "* `sqft_above` - Square footage of house apart from basement\n",
    "* `sqft_basement` - Square footage of the basement\n",
    "* `yr_built` - Year when house was built\n",
    "* `yr_renovated` - Year when house was renovated\n",
    "* `zipcode` - ZIP Code used by the United States Postal Service\n",
    "* `lat` - Latitude coordinate\n",
    "* `long` - Longitude coordinate\n",
    "* `sqft_living15` - The square footage of interior housing living space for the nearest 15 neighbors\n",
    "* `sqft_lot15` - The square footage of the land lots of the nearest 15 neighbors"
   ]
  },
  {
   "cell_type": "markdown",
   "metadata": {},
   "source": [
    "# Initial Data Exploration"
   ]
  },
  {
   "cell_type": "code",
   "execution_count": 5,
   "metadata": {},
   "outputs": [
    {
     "name": "stdout",
     "output_type": "stream",
     "text": [
      "<class 'pandas.core.frame.DataFrame'>\n",
      "RangeIndex: 21597 entries, 0 to 21596\n",
      "Data columns (total 21 columns):\n",
      " #   Column         Non-Null Count  Dtype  \n",
      "---  ------         --------------  -----  \n",
      " 0   id             21597 non-null  int64  \n",
      " 1   date           21597 non-null  object \n",
      " 2   price          21597 non-null  float64\n",
      " 3   bedrooms       21597 non-null  int64  \n",
      " 4   bathrooms      21597 non-null  float64\n",
      " 5   sqft_living    21597 non-null  int64  \n",
      " 6   sqft_lot       21597 non-null  int64  \n",
      " 7   floors         21597 non-null  float64\n",
      " 8   waterfront     19221 non-null  object \n",
      " 9   view           21534 non-null  object \n",
      " 10  condition      21597 non-null  object \n",
      " 11  grade          21597 non-null  object \n",
      " 12  sqft_above     21597 non-null  int64  \n",
      " 13  sqft_basement  21597 non-null  object \n",
      " 14  yr_built       21597 non-null  int64  \n",
      " 15  yr_renovated   17755 non-null  float64\n",
      " 16  zipcode        21597 non-null  int64  \n",
      " 17  lat            21597 non-null  float64\n",
      " 18  long           21597 non-null  float64\n",
      " 19  sqft_living15  21597 non-null  int64  \n",
      " 20  sqft_lot15     21597 non-null  int64  \n",
      "dtypes: float64(6), int64(9), object(6)\n",
      "memory usage: 3.5+ MB\n"
     ]
    }
   ],
   "source": [
    "# Looking at a summary of column data types\n",
    "data.info()"
   ]
  },
  {
   "cell_type": "markdown",
   "metadata": {},
   "source": [
    "Observations\n",
    "\n",
    "* `id` - integer ( Should be a string)\n",
    "\n",
    "* `date` - object (Should be datetime)\n",
    "\n",
    "* `bathrooms` - float64 (Should be integer, as there are no half bathrooms)\n",
    "\n",
    "* `floors` - float64 (Should be integer)\n",
    "\n",
    "* `condition` - object (Should be integer, An index from 1 to 5 on the condition of the house.)\n",
    "\n",
    "* `grade`: object (Should be split into the grade number, an integer, and the grade comment, which is a string)\n",
    "\n",
    "* `sqft_basement`: object (Should be converted to a float)"
   ]
  },
  {
   "cell_type": "code",
   "execution_count": 6,
   "metadata": {},
   "outputs": [],
   "source": [
    "# Convert the 'id' column to a string\n",
    "data['id'] = data['id'].astype(str)\n",
    "\n",
    "# Converting 'date' to datetime\n",
    "data['date'] = pd.to_datetime(data['date'])\n",
    "\n",
    "# Converting 'bathrooms' column from float to the nearest integer\n",
    "data['bathrooms'] = data['bathrooms'].round().astype(int)\n",
    "\n",
    "# Converting the 'floors' column from float to the nearest integer\n",
    "data['floors'] = data['floors'].round().astype(int)"
   ]
  },
  {
   "cell_type": "code",
   "execution_count": 7,
   "metadata": {},
   "outputs": [
    {
     "data": {
      "text/plain": [
       "condition\n",
       "Average      14020\n",
       "Good          5677\n",
       "Very Good     1701\n",
       "Fair           170\n",
       "Poor            29\n",
       "Name: count, dtype: int64"
      ]
     },
     "execution_count": 7,
     "metadata": {},
     "output_type": "execute_result"
    }
   ],
   "source": [
    "# Checking the unique values in 'condition' column\n",
    "data['condition'].value_counts()"
   ]
  },
  {
   "cell_type": "code",
   "execution_count": 8,
   "metadata": {},
   "outputs": [
    {
     "data": {
      "text/plain": [
       "0    3\n",
       "1    3\n",
       "2    3\n",
       "3    5\n",
       "4    3\n",
       "Name: condition, dtype: int64"
      ]
     },
     "execution_count": 8,
     "metadata": {},
     "output_type": "execute_result"
    }
   ],
   "source": [
    "# Define a mapping for the condition values to integers\n",
    "condition_mapping = {\n",
    "    'Poor': 1,\n",
    "    'Fair': 2,\n",
    "    'Average': 3,\n",
    "    'Good': 4,\n",
    "    'Very Good': 5\n",
    "}\n",
    "\n",
    "# Apply the mapping to the 'condition' column\n",
    "data['condition'] = data['condition'].map(condition_mapping)\n",
    "\n",
    "# Confirm the conversion\n",
    "data['condition'].head()\n"
   ]
  },
  {
   "cell_type": "code",
   "execution_count": 9,
   "metadata": {},
   "outputs": [
    {
     "data": {
      "text/plain": [
       "array(['7 Average', '6 Low Average', '8 Good', '11 Excellent', '9 Better',\n",
       "       '5 Fair', '10 Very Good', '12 Luxury', '4 Low', '3 Poor',\n",
       "       '13 Mansion'], dtype=object)"
      ]
     },
     "execution_count": 9,
     "metadata": {},
     "output_type": "execute_result"
    }
   ],
   "source": [
    "# Check the unique values in the 'grade' column\n",
    "data['grade'].unique()"
   ]
  },
  {
   "cell_type": "code",
   "execution_count": 10,
   "metadata": {},
   "outputs": [
    {
     "data": {
      "text/html": [
       "<div>\n",
       "<style scoped>\n",
       "    .dataframe tbody tr th:only-of-type {\n",
       "        vertical-align: middle;\n",
       "    }\n",
       "\n",
       "    .dataframe tbody tr th {\n",
       "        vertical-align: top;\n",
       "    }\n",
       "\n",
       "    .dataframe thead th {\n",
       "        text-align: right;\n",
       "    }\n",
       "</style>\n",
       "<table border=\"1\" class=\"dataframe\">\n",
       "  <thead>\n",
       "    <tr style=\"text-align: right;\">\n",
       "      <th></th>\n",
       "      <th>grade</th>\n",
       "      <th>grade_numeric</th>\n",
       "      <th>grade_description</th>\n",
       "    </tr>\n",
       "  </thead>\n",
       "  <tbody>\n",
       "    <tr>\n",
       "      <th>0</th>\n",
       "      <td>7 Average</td>\n",
       "      <td>5</td>\n",
       "      <td>Average</td>\n",
       "    </tr>\n",
       "    <tr>\n",
       "      <th>1</th>\n",
       "      <td>7 Average</td>\n",
       "      <td>5</td>\n",
       "      <td>Average</td>\n",
       "    </tr>\n",
       "    <tr>\n",
       "      <th>2</th>\n",
       "      <td>6 Low Average</td>\n",
       "      <td>4</td>\n",
       "      <td>Low Average</td>\n",
       "    </tr>\n",
       "    <tr>\n",
       "      <th>3</th>\n",
       "      <td>7 Average</td>\n",
       "      <td>5</td>\n",
       "      <td>Average</td>\n",
       "    </tr>\n",
       "    <tr>\n",
       "      <th>4</th>\n",
       "      <td>8 Good</td>\n",
       "      <td>6</td>\n",
       "      <td>Good</td>\n",
       "    </tr>\n",
       "  </tbody>\n",
       "</table>\n",
       "</div>"
      ],
      "text/plain": [
       "           grade  grade_numeric grade_description\n",
       "0      7 Average              5           Average\n",
       "1      7 Average              5           Average\n",
       "2  6 Low Average              4       Low Average\n",
       "3      7 Average              5           Average\n",
       "4         8 Good              6              Good"
      ]
     },
     "execution_count": 10,
     "metadata": {},
     "output_type": "execute_result"
    }
   ],
   "source": [
    "# Define a mapping for the grade values to integers\n",
    "grade_mapping = {\n",
    "    '3 Poor': 1,\n",
    "    '4 Low': 2,\n",
    "    '5 Fair': 3,\n",
    "    '6 Low Average': 4,\n",
    "    '7 Average': 5,\n",
    "    '8 Good': 6,\n",
    "    '9 Better': 7,\n",
    "    '10 Very Good': 8,\n",
    "    '11 Excellent': 9,\n",
    "    '12 Luxury': 10,\n",
    "    '13 Mansion': 11\n",
    "}\n",
    "\n",
    "# Apply the mapping to the 'grade' column\n",
    "data['grade_numeric'] = data['grade'].map(grade_mapping)\n",
    "\n",
    "# Create a new column to describe the resulting condition\n",
    "grade_description = {\n",
    "    1: 'Poor',\n",
    "    2: 'Low',\n",
    "    3: 'Fair',\n",
    "    4: 'Low Average',\n",
    "    5: 'Average',\n",
    "    6: 'Good',\n",
    "    7: 'Better',\n",
    "    8: 'Very Good',\n",
    "    9: 'Excellent',\n",
    "    10: 'Luxury',\n",
    "    11: 'Mansion'\n",
    "}\n",
    "\n",
    "data['grade_description'] = data['grade_numeric'].map(grade_description)\n",
    "\n",
    "# Confirm the new columns\n",
    "data[['grade', 'grade_numeric', 'grade_description']].head()\n"
   ]
  },
  {
   "cell_type": "code",
   "execution_count": 11,
   "metadata": {},
   "outputs": [
    {
     "data": {
      "text/plain": [
       "dtype('float64')"
      ]
     },
     "execution_count": 11,
     "metadata": {},
     "output_type": "execute_result"
    }
   ],
   "source": [
    "# Replace non-numeric values with NaN and convert the column to numeric\n",
    "data['sqft_basement'] = pd.to_numeric(data['sqft_basement'].replace('?', pd.NA), errors='coerce')\n",
    "\n",
    "# Confirm the conversion\n",
    "data['sqft_basement'].dtype"
   ]
  },
  {
   "cell_type": "code",
   "execution_count": 12,
   "metadata": {},
   "outputs": [
    {
     "data": {
      "text/plain": [
       "waterfront\n",
       "NO     19075\n",
       "YES      146\n",
       "Name: count, dtype: int64"
      ]
     },
     "execution_count": 12,
     "metadata": {},
     "output_type": "execute_result"
    }
   ],
   "source": [
    "# Checking the unique values in 'waterfront'\n",
    "data['waterfront'].value_counts()"
   ]
  },
  {
   "cell_type": "code",
   "execution_count": 13,
   "metadata": {},
   "outputs": [
    {
     "data": {
      "text/plain": [
       "0    NaN\n",
       "1    0.0\n",
       "2    0.0\n",
       "3    0.0\n",
       "4    0.0\n",
       "Name: waterfront, dtype: float64"
      ]
     },
     "execution_count": 13,
     "metadata": {},
     "output_type": "execute_result"
    }
   ],
   "source": [
    "# Convert 'waterfront' values to 1 and 0\n",
    "waterfront_mapping = {\n",
    "    'YES': 1,\n",
    "    'NO': 0\n",
    "}\n",
    "\n",
    "data['waterfront'] = data['waterfront'].map(waterfront_mapping)\n",
    "\n",
    "# Confirm the conversion\n",
    "data['waterfront'].head()"
   ]
  },
  {
   "cell_type": "code",
   "execution_count": 14,
   "metadata": {},
   "outputs": [
    {
     "data": {
      "text/plain": [
       "id                      0\n",
       "date                    0\n",
       "price                   0\n",
       "bedrooms                0\n",
       "bathrooms               0\n",
       "sqft_living             0\n",
       "sqft_lot                0\n",
       "floors                  0\n",
       "waterfront           2376\n",
       "view                   63\n",
       "condition               0\n",
       "grade                   0\n",
       "sqft_above              0\n",
       "sqft_basement         454\n",
       "yr_built                0\n",
       "yr_renovated         3842\n",
       "zipcode                 0\n",
       "lat                     0\n",
       "long                    0\n",
       "sqft_living15           0\n",
       "sqft_lot15              0\n",
       "grade_numeric           0\n",
       "grade_description       0\n",
       "dtype: int64"
      ]
     },
     "execution_count": 14,
     "metadata": {},
     "output_type": "execute_result"
    }
   ],
   "source": [
    "# Looking for null values\n",
    "data.isna().sum()"
   ]
  },
  {
   "cell_type": "code",
   "execution_count": 15,
   "metadata": {},
   "outputs": [
    {
     "data": {
      "text/plain": [
       "id                    0.000000\n",
       "date                  0.000000\n",
       "price                 0.000000\n",
       "bedrooms              0.000000\n",
       "bathrooms             0.000000\n",
       "sqft_living           0.000000\n",
       "sqft_lot              0.000000\n",
       "floors                0.000000\n",
       "waterfront           11.001528\n",
       "view                  0.291707\n",
       "condition             0.000000\n",
       "grade                 0.000000\n",
       "sqft_above            0.000000\n",
       "sqft_basement         2.102144\n",
       "yr_built              0.000000\n",
       "yr_renovated         17.789508\n",
       "zipcode               0.000000\n",
       "lat                   0.000000\n",
       "long                  0.000000\n",
       "sqft_living15         0.000000\n",
       "sqft_lot15            0.000000\n",
       "grade_numeric         0.000000\n",
       "grade_description     0.000000\n",
       "dtype: float64"
      ]
     },
     "execution_count": 15,
     "metadata": {},
     "output_type": "execute_result"
    }
   ],
   "source": [
    "# Checking the percentage of the missing values\n",
    "(data.isna().sum()/data.shape[0])*100"
   ]
  },
  {
   "cell_type": "markdown",
   "metadata": {},
   "source": [
    "Missing Values Observations:\n",
    "* `waterfront` has some missing values (11% of the data)\n",
    "\n",
    "* `view` has a few missing values (0.29% of the data)\n",
    "\n",
    "* `sqft_basement` has a few nissing values (2.1% of the data)\n",
    "\n",
    "* `yr_renovated` has many missing values (17.79% of the data).\n"
   ]
  },
  {
   "cell_type": "markdown",
   "metadata": {},
   "source": [
    "Srategies for dealing with the missing values:\n",
    "\n",
    "1. `waterfront` (11%):\n",
    "\n",
    "    Since waterfront is a categorical variable, we can fill the missing values with the most frequent category: 'NO', which is 0\n",
    "\n",
    "2. `yr_renovated` (17.79%):\n",
    "    \n",
    "    We can fill the missing values with 0. \n",
    "    \n",
    "    A value of 0 might indicate that the house was never renovated.\n",
    "\n",
    "3. `sqft_basement` (2.1%)\n",
    "\n",
    "    we can also fill in with the mode"
   ]
  },
  {
   "cell_type": "code",
   "execution_count": 17,
   "metadata": {},
   "outputs": [
    {
     "name": "stderr",
     "output_type": "stream",
     "text": [
      "/var/folders/lq/_1mfm1_x15s4jd56sgz3z4d00000gn/T/ipykernel_35658/3090519027.py:5: FutureWarning: A value is trying to be set on a copy of a DataFrame or Series through chained assignment using an inplace method.\n",
      "The behavior will change in pandas 3.0. This inplace method will never work because the intermediate object on which we are setting values always behaves as a copy.\n",
      "\n",
      "For example, when doing 'df[col].method(value, inplace=True)', try using 'df.method({col: value}, inplace=True)' or df[col] = df[col].method(value) instead, to perform the operation inplace on the original object.\n",
      "\n",
      "\n",
      "  data['sqft_basement'].fillna(mode_sqft_basement, inplace=True)\n",
      "/var/folders/lq/_1mfm1_x15s4jd56sgz3z4d00000gn/T/ipykernel_35658/3090519027.py:9: FutureWarning: A value is trying to be set on a copy of a DataFrame or Series through chained assignment using an inplace method.\n",
      "The behavior will change in pandas 3.0. This inplace method will never work because the intermediate object on which we are setting values always behaves as a copy.\n",
      "\n",
      "For example, when doing 'df[col].method(value, inplace=True)', try using 'df.method({col: value}, inplace=True)' or df[col] = df[col].method(value) instead, to perform the operation inplace on the original object.\n",
      "\n",
      "\n",
      "  data['waterfront'].fillna(most_common_waterfront, inplace=True)\n",
      "/var/folders/lq/_1mfm1_x15s4jd56sgz3z4d00000gn/T/ipykernel_35658/3090519027.py:16: FutureWarning: A value is trying to be set on a copy of a DataFrame or Series through chained assignment using an inplace method.\n",
      "The behavior will change in pandas 3.0. This inplace method will never work because the intermediate object on which we are setting values always behaves as a copy.\n",
      "\n",
      "For example, when doing 'df[col].method(value, inplace=True)', try using 'df.method({col: value}, inplace=True)' or df[col] = df[col].method(value) instead, to perform the operation inplace on the original object.\n",
      "\n",
      "\n",
      "  data['view'].fillna(most_common_view, inplace=True)\n"
     ]
    },
    {
     "data": {
      "text/plain": [
       "id                   0\n",
       "date                 0\n",
       "price                0\n",
       "bedrooms             0\n",
       "bathrooms            0\n",
       "sqft_living          0\n",
       "sqft_lot             0\n",
       "floors               0\n",
       "waterfront           0\n",
       "view                 0\n",
       "condition            0\n",
       "grade                0\n",
       "sqft_above           0\n",
       "sqft_basement        0\n",
       "yr_built             0\n",
       "yr_renovated         0\n",
       "zipcode              0\n",
       "lat                  0\n",
       "long                 0\n",
       "sqft_living15        0\n",
       "sqft_lot15           0\n",
       "grade_numeric        0\n",
       "grade_description    0\n",
       "dtype: int64"
      ]
     },
     "execution_count": 17,
     "metadata": {},
     "output_type": "execute_result"
    }
   ],
   "source": [
    "# Calculate the mode of 'sqft_basement'\n",
    "mode_sqft_basement = data['sqft_basement'].mode()[0]\n",
    "\n",
    "# Impute missing values in 'sqft_basement' with the mode\n",
    "data['sqft_basement'].fillna(mode_sqft_basement, inplace=True)\n",
    "\n",
    "# Impute missing values in 'waterfront' with the most common value\n",
    "most_common_waterfront = data['waterfront'].mode()[0]\n",
    "data['waterfront'].fillna(most_common_waterfront, inplace=True)\n",
    "\n",
    "# Impute missing values for 'yr_renovated' with 0\n",
    "data['yr_renovated'] = data['yr_renovated'].fillna(0)\n",
    "\n",
    "# Impute missing values in `view` with the mode\n",
    "most_common_view = data['view'].mode()[0]\n",
    "data['view'].fillna(most_common_view, inplace=True)\n",
    "\n",
    "# Verify if there are any missing values left\n",
    "data.isna().sum()"
   ]
  },
  {
   "cell_type": "markdown",
   "metadata": {},
   "source": [
    "Now lets also map `views` to numeric values."
   ]
  },
  {
   "cell_type": "code",
   "execution_count": 18,
   "metadata": {},
   "outputs": [
    {
     "data": {
      "text/plain": [
       "0    0\n",
       "1    0\n",
       "2    0\n",
       "3    0\n",
       "4    0\n",
       "Name: view, dtype: int64"
      ]
     },
     "execution_count": 18,
     "metadata": {},
     "output_type": "execute_result"
    }
   ],
   "source": [
    "# Define a mapping for the view values to a numeric scale\n",
    "view_mapping = {\n",
    "    'NONE': 0,\n",
    "    'FAIR': 1,\n",
    "    'AVERAGE': 2,\n",
    "    'GOOD': 3,\n",
    "    'EXCELLENT': 4\n",
    "}\n",
    "\n",
    "# Apply the mapping to the 'view' column\n",
    "data['view'] = data['view'].map(view_mapping)\n",
    "\n",
    "# Confirm the conversion\n",
    "data['view'].head()\n"
   ]
  },
  {
   "cell_type": "markdown",
   "metadata": {},
   "source": [
    "Now we can check for duplicate entries in our data"
   ]
  },
  {
   "cell_type": "code",
   "execution_count": 19,
   "metadata": {},
   "outputs": [
    {
     "data": {
      "text/plain": [
       "0"
      ]
     },
     "execution_count": 19,
     "metadata": {},
     "output_type": "execute_result"
    }
   ],
   "source": [
    "data.duplicated().sum()"
   ]
  },
  {
   "cell_type": "markdown",
   "metadata": {},
   "source": [
    "We have none. \n",
    "\n",
    "Next we can calculate the cardinality of each column"
   ]
  },
  {
   "cell_type": "code",
   "execution_count": 20,
   "metadata": {},
   "outputs": [
    {
     "data": {
      "text/plain": [
       "id                   21420\n",
       "date                   372\n",
       "price                 3622\n",
       "bedrooms                12\n",
       "bathrooms                9\n",
       "sqft_living           1034\n",
       "sqft_lot              9776\n",
       "floors                   4\n",
       "waterfront               2\n",
       "view                     5\n",
       "condition                5\n",
       "grade                   11\n",
       "sqft_above             942\n",
       "sqft_basement          303\n",
       "yr_built               116\n",
       "yr_renovated            70\n",
       "zipcode                 70\n",
       "lat                   5033\n",
       "long                   751\n",
       "sqft_living15          777\n",
       "sqft_lot15            8682\n",
       "grade_numeric           11\n",
       "grade_description       11\n",
       "dtype: int64"
      ]
     },
     "execution_count": 20,
     "metadata": {},
     "output_type": "execute_result"
    }
   ],
   "source": [
    "data.nunique()"
   ]
  },
  {
   "cell_type": "markdown",
   "metadata": {},
   "source": [
    "We can tell that we have some entries that have the same ids. let's extract those entries and have a closer look to check if they are duplicates"
   ]
  },
  {
   "cell_type": "code",
   "execution_count": 21,
   "metadata": {},
   "outputs": [
    {
     "data": {
      "text/plain": [
       "(               id       date      price  bedrooms  bathrooms  sqft_living  \\\n",
       " 93     6021501535 2014-07-25   430000.0         3          2         1580   \n",
       " 94     6021501535 2014-12-23   700000.0         3          2         1580   \n",
       " 313    4139480200 2014-06-18  1380000.0         4          3         4290   \n",
       " 314    4139480200 2014-12-09  1400000.0         4          3         4290   \n",
       " 324    7520000520 2014-09-05   232000.0         2          1         1240   \n",
       " ...           ...        ...        ...       ...        ...          ...   \n",
       " 20654  8564860270 2015-03-30   502000.0         4          2         2680   \n",
       " 20763  6300000226 2014-06-26   240000.0         4          1         1200   \n",
       " 20764  6300000226 2015-05-04   380000.0         4          1         1200   \n",
       " 21564  7853420110 2014-10-03   594866.0         3          3         2780   \n",
       " 21565  7853420110 2015-05-04   625000.0         3          3         2780   \n",
       " \n",
       "        sqft_lot  floors  waterfront  view  ...  sqft_basement yr_built  \\\n",
       " 93         5000       1         0.0     0  ...          290.0     1939   \n",
       " 94         5000       1         0.0     0  ...          290.0     1939   \n",
       " 313       12103       1         0.0     3  ...         1600.0     1997   \n",
       " 314       12103       1         0.0     3  ...         1600.0     1997   \n",
       " 324       12092       1         0.0     0  ...          280.0     1922   \n",
       " ...         ...     ...         ...   ...  ...            ...      ...   \n",
       " 20654      5539       2         0.0     0  ...            0.0     2013   \n",
       " 20763      2171       2         0.0     0  ...            0.0     1933   \n",
       " 20764      2171       2         0.0     0  ...            0.0     1933   \n",
       " 21564      6000       2         0.0     0  ...            0.0     2013   \n",
       " 21565      6000       2         0.0     0  ...            0.0     2013   \n",
       " \n",
       "        yr_renovated  zipcode      lat     long  sqft_living15  sqft_lot15  \\\n",
       " 93              0.0    98117  47.6870 -122.386           1570        4500   \n",
       " 94              0.0    98117  47.6870 -122.386           1570        4500   \n",
       " 313             0.0    98006  47.5503 -122.102           3860       11244   \n",
       " 314             0.0    98006  47.5503 -122.102           3860       11244   \n",
       " 324          1984.0    98146  47.4957 -122.352           1820        7460   \n",
       " ...             ...      ...      ...      ...            ...         ...   \n",
       " 20654           0.0    98045  47.4759 -121.734           2680        5992   \n",
       " 20763           0.0    98133  47.7076 -122.342           1130        1598   \n",
       " 20764           0.0    98133  47.7076 -122.342           1130        1598   \n",
       " 21564           0.0    98065  47.5184 -121.886           2850        6000   \n",
       " 21565           0.0    98065  47.5184 -121.886           2850        6000   \n",
       " \n",
       "        grade_numeric  grade_description  \n",
       " 93                 6               Good  \n",
       " 94                 6               Good  \n",
       " 313                9          Excellent  \n",
       " 314                9          Excellent  \n",
       " 324                4        Low Average  \n",
       " ...              ...                ...  \n",
       " 20654              6               Good  \n",
       " 20763              5            Average  \n",
       " 20764              5            Average  \n",
       " 21564              7             Better  \n",
       " 21565              7             Better  \n",
       " \n",
       " [353 rows x 23 columns],\n",
       " 353)"
      ]
     },
     "execution_count": 21,
     "metadata": {},
     "output_type": "execute_result"
    }
   ],
   "source": [
    "# Find entries with the same id\n",
    "duplicate_ids = data[data.duplicated(subset=['id'], keep=False)]\n",
    "\n",
    "# Count the number of such entries\n",
    "duplicate_ids_count = duplicate_ids.shape[0]\n",
    "\n",
    "duplicate_ids, duplicate_ids_count\n"
   ]
  },
  {
   "cell_type": "markdown",
   "metadata": {},
   "source": [
    "We can see that they are the same houses, with different selling dates. We can assume that these are houses that have been sold more than once at different times.\n",
    "\n",
    "So lets sort the date in ascending order and delete the first sale entry and only keep the latest house sale."
   ]
  },
  {
   "cell_type": "code",
   "execution_count": 22,
   "metadata": {},
   "outputs": [
    {
     "data": {
      "text/plain": [
       "(21420, 23)"
      ]
     },
     "execution_count": 22,
     "metadata": {},
     "output_type": "execute_result"
    }
   ],
   "source": [
    "# Sort the data by date in ascending order\n",
    "data = data.sort_values(by='date')\n",
    "\n",
    "# Drop the first duplicate keeping the last entry\n",
    "data = data.drop_duplicates(subset=['id'], keep='last')\n",
    "\n",
    "# Confirm the number of rows remaining after dropping duplicates\n",
    "data.shape"
   ]
  },
  {
   "cell_type": "markdown",
   "metadata": {},
   "source": [
    "We can see that our resulting data has **21,420 rows** and **23 columns**"
   ]
  },
  {
   "cell_type": "markdown",
   "metadata": {},
   "source": [
    "# Feature Engineering\n",
    "We have already created the new column `grade_numeric` to help us with our analysis.\n",
    "\n",
    "We can consider creating the following new features:\n",
    "\n",
    "1. `age_of_house`: age = 2024 - yr_built\n",
    "2. `renovation_age`: renovation_age = 2024 - yr_renovated (if renovated, otherwise 0)\n",
    "3. `total_square_footage`: total_sqft = sqft_living + sqft_basement"
   ]
  },
  {
   "cell_type": "code",
   "execution_count": 24,
   "metadata": {},
   "outputs": [
    {
     "data": {
      "text/html": [
       "<div>\n",
       "<style scoped>\n",
       "    .dataframe tbody tr th:only-of-type {\n",
       "        vertical-align: middle;\n",
       "    }\n",
       "\n",
       "    .dataframe tbody tr th {\n",
       "        vertical-align: top;\n",
       "    }\n",
       "\n",
       "    .dataframe thead th {\n",
       "        text-align: right;\n",
       "    }\n",
       "</style>\n",
       "<table border=\"1\" class=\"dataframe\">\n",
       "  <thead>\n",
       "    <tr style=\"text-align: right;\">\n",
       "      <th></th>\n",
       "      <th>age_of_house</th>\n",
       "      <th>renovation_age</th>\n",
       "      <th>total_square_footage</th>\n",
       "    </tr>\n",
       "  </thead>\n",
       "  <tbody>\n",
       "    <tr>\n",
       "      <th>7316</th>\n",
       "      <td>70</td>\n",
       "      <td>0.0</td>\n",
       "      <td>1450.0</td>\n",
       "    </tr>\n",
       "    <tr>\n",
       "      <th>20586</th>\n",
       "      <td>12</td>\n",
       "      <td>0.0</td>\n",
       "      <td>3310.0</td>\n",
       "    </tr>\n",
       "    <tr>\n",
       "      <th>1040</th>\n",
       "      <td>48</td>\n",
       "      <td>0.0</td>\n",
       "      <td>2740.0</td>\n",
       "    </tr>\n",
       "    <tr>\n",
       "      <th>20543</th>\n",
       "      <td>15</td>\n",
       "      <td>0.0</td>\n",
       "      <td>1980.0</td>\n",
       "    </tr>\n",
       "    <tr>\n",
       "      <th>9587</th>\n",
       "      <td>73</td>\n",
       "      <td>0.0</td>\n",
       "      <td>3500.0</td>\n",
       "    </tr>\n",
       "  </tbody>\n",
       "</table>\n",
       "</div>"
      ],
      "text/plain": [
       "       age_of_house  renovation_age  total_square_footage\n",
       "7316             70             0.0                1450.0\n",
       "20586            12             0.0                3310.0\n",
       "1040             48             0.0                2740.0\n",
       "20543            15             0.0                1980.0\n",
       "9587             73             0.0                3500.0"
      ]
     },
     "execution_count": 24,
     "metadata": {},
     "output_type": "execute_result"
    }
   ],
   "source": [
    "# 1. Age of the house\n",
    "data['age_of_house'] = 2024 - data['yr_built']\n",
    "\n",
    "# 2. Renovation age\n",
    "data['renovation_age'] = data.apply(lambda row: 2024 - row['yr_renovated'] if row['yr_renovated'] > 0 else 0, axis=1)\n",
    "\n",
    "# 3. Total square footage\n",
    "data['total_square_footage'] = data['sqft_living'] + data['sqft_basement']\n",
    "\n",
    "# Display the new columns to confirm the changes\n",
    "data[['age_of_house', 'renovation_age', 'total_square_footage']].head()\n"
   ]
  },
  {
   "cell_type": "markdown",
   "metadata": {},
   "source": [
    "We can drop the following columns as we will not be using them in our analysis: \n",
    "\n",
    "`zipcode`, `lat`, `long`"
   ]
  },
  {
   "cell_type": "code",
   "execution_count": 25,
   "metadata": {},
   "outputs": [
    {
     "data": {
      "text/plain": [
       "Index(['id', 'date', 'price', 'bedrooms', 'bathrooms', 'sqft_living',\n",
       "       'sqft_lot', 'floors', 'waterfront', 'view', 'condition', 'grade',\n",
       "       'sqft_above', 'sqft_basement', 'yr_built', 'yr_renovated',\n",
       "       'sqft_living15', 'sqft_lot15', 'grade_numeric', 'grade_description',\n",
       "       'age_of_house', 'renovation_age', 'total_square_footage'],\n",
       "      dtype='object')"
      ]
     },
     "execution_count": 25,
     "metadata": {},
     "output_type": "execute_result"
    }
   ],
   "source": [
    "# Drop the columns 'zipcode', 'lat', and 'long'\n",
    "data.drop(columns=['zipcode', 'lat', 'long'], inplace=True)\n",
    "\n",
    "# Confirm the columns have been dropped\n",
    "data.columns"
   ]
  },
  {
   "cell_type": "code",
   "execution_count": 27,
   "metadata": {},
   "outputs": [],
   "source": [
    "data.to_csv('cleaned_data_for_modelling.csv', index=False)"
   ]
  },
  {
   "cell_type": "markdown",
   "metadata": {},
   "source": [
    "# Summary Statistics"
   ]
  },
  {
   "cell_type": "code",
   "execution_count": null,
   "metadata": {},
   "outputs": [],
   "source": [
    "data.describe()"
   ]
  },
  {
   "cell_type": "markdown",
   "metadata": {},
   "source": [
    "# Initial visualizations\n",
    "\n",
    "First we can have a look at the distribution of our numerical variables"
   ]
  },
  {
   "cell_type": "code",
   "execution_count": null,
   "metadata": {},
   "outputs": [],
   "source": [
    "import matplotlib.pyplot as plt\n",
    "\n",
    "# Select numerical columns\n",
    "numerical_columns = data.select_dtypes(include=['int64', 'float64']).columns\n",
    "\n",
    "# Plot histograms for each numerical column\n",
    "data[numerical_columns].hist(figsize=(15, 15), bins=30, edgecolor='black')\n",
    "plt.tight_layout()\n",
    "plt.show()\n"
   ]
  },
  {
   "cell_type": "markdown",
   "metadata": {},
   "source": [
    "## Observations\n",
    "1. **Price**:\n",
    "\n",
    "    * The distribution is right-skewed, indicating that most houses are priced below $1 million, with a few very high-priced properties.\n",
    "\n",
    "2. **Bedrooms**:\n",
    "\n",
    "    * Most houses have 3 to 4 bedrooms. There are few houses with more than 6 bedrooms, and very few with exceptionally high bedroom counts.\n",
    "\n",
    "3. **Bathrooms**:\n",
    "\n",
    "    * Most houses have between 1 and 3 bathrooms. The distribution shows a right skew with fewer houses having more than 4 bathrooms.\n",
    "\n",
    "4. **Sqft_Living**:\n",
    "\n",
    "    *The distribution is right-skewed, with most houses having less than 4000 sqft of living space.\n",
    "\n",
    "5. **Sqft Lot**:\n",
    "\n",
    "    * The distribution is heavily right-skewed with most houses having lot sizes less than 15,000 sqft. There are a few outliers with very large lot sizes.\n",
    "\n",
    "6. **Floors**:\n",
    "\n",
    "    * Most houses have either 1 or 2 floors, with very few having 3 or more floors.\n",
    "\n",
    "7. **Waterfront**:\n",
    "\n",
    "    * The distribution indicates that a very small number of houses are on the waterfront.\n",
    "\n",
    "8. **View**:\n",
    "\n",
    "    * The majority of houses have a view rating of 0 (none). Other view ratings (1 to 4) are much less common.\n",
    "\n",
    "9. **Condition**:\n",
    "\n",
    "    * Most houses have a condition rating of 3 (Average) or 4 (Good), with fewer houses rated as 1 (Poor) or 5 (Very Good).\n",
    "\n",
    "10. **Sqft Above**:\n",
    "\n",
    "    * The distribution is right-skewed, similar to sqft_living, indicating that most houses have less than 3000 sqft above ground.\n",
    "\n",
    "11. **Sqft Basement**:\n",
    "\n",
    "    * Most houses either have no basement or have a basement size less than 1500 sqft. The distribution shows a sharp drop-off after that.\n",
    "\n",
    "12. **Yr Built**:\n",
    "\n",
    "    * The distribution is relatively uniform with peaks around the 1950s and 2000s, indicating periods of increased construction.\n",
    "\n",
    "13. **Yr Renovated**:\n",
    "\n",
    "    * Most houses have a renovation year of 0 (indicating no renovation). For those that have been renovated, the distribution shows peaks in more recent years.\n",
    "\n",
    "14. **Sqft Living15**:\n",
    "\n",
    "    * The distribution is right-skewed, with most houses having neighboring houses with less than 4000 sqft of living space.\n",
    "\n",
    "15. **Sqft Lot15**:\n",
    "\n",
    "\n",
    "    * The distribution is heavily right-skewed with most houses having neighboring lot sizes less than 20,000 sqft, but some have much larger neighboring lot sizes.\n",
    "\n",
    "16. **Grade Numeric**:\n",
    "\n",
    "    * Most houses have a grade between 5 (Average) and 7 (Good). Higher grades are less common.\n",
    "\n",
    "17. **Age of House**:\n",
    "\n",
    "    * The distribution indicates that many houses are between 20 to 80 years old, with fewer houses being either very new or very old.\n",
    "\n",
    "18. **Renovation Age**:\n",
    "\n",
    "    * Most houses either have a renovation age of 0 or were renovated in the past 20 years. There are fewer houses with renovations older than that.\n",
    "\n",
    "19. Total Square Footage:\n",
    "\n",
    "    * The distribution is right-skewed with most houses having a total square footage (living + basement) of less than 4000 sqft."
   ]
  },
  {
   "cell_type": "markdown",
   "metadata": {},
   "source": [
    "## Calculating the correlation matrix"
   ]
  },
  {
   "cell_type": "code",
   "execution_count": null,
   "metadata": {},
   "outputs": [],
   "source": [
    "# Calculating the correlation matrix\n",
    "correlation_matrix = data[numerical_columns].corr()\n",
    "\n",
    "correlation_matrix"
   ]
  },
  {
   "cell_type": "markdown",
   "metadata": {},
   "source": [
    "1. Price: \n",
    "    * Highly correlated with sqft_living (0.701917), grade_numeric (0.667951), and total_square_footage (0.668185).\n",
    "\n",
    "    * Moderately correlated with bathrooms (0.519628), sqft_above (0.605368), and sqft_living15 (0.585241).\n",
    "\n",
    "2. Bedrooms:\n",
    "\n",
    "    * Moderately correlated with sqft_living (0.578212), total_square_footage (0.562662), and sqft_above (0.479386).\n",
    "\n",
    "3. Bathrooms:\n",
    "\n",
    "    * Highly correlated with sqft_living (0.702719) and total_square_footage (0.671770).\n",
    "\n",
    "4. Sqft Living:\n",
    "\n",
    "    Very highly correlated with total_square_footage (0.941166).\n",
    "\n",
    "    Highly correlated with sqft_above (0.876448) and bathrooms (0.702719).\n",
    "\n",
    "5. Floors:\n",
    "\n",
    "    * Shows some correlation with price (0.244832) and bathrooms (0.327893).\n",
    "\n",
    "6. Waterfront:\n",
    "\n",
    "    * Moderately correlated with price (0.264306) and view (0.393497).\n",
    "\n",
    "7. View:\n",
    "\n",
    "    * Moderately correlated with price (0.393497) and sqft_living (0.281715).\n",
    "\n",
    "8. Condition:\n",
    "\n",
    "    * Shows low correlation with most features.\n",
    "\n",
    "9. Sqft Above:\n",
    "\n",
    "    * Very highly correlated with sqft_living (0.876448).\n",
    "\n",
    "10. Sqft Basement:\n",
    "\n",
    "    * Moderately correlated with price (0.321108) and total_square_footage (0.708763).\n",
    "\n",
    "11. Yr Built:\n",
    "\n",
    "    * Shows low correlation with most features.\n",
    "\n",
    "12. Yr Renovated:\n",
    "\n",
    "    * Shows some correlation with price (0.117855).\n",
    "\n",
    "13. Sqft Living15:\n",
    "\n",
    "    * Highly correlated with sqft_living (0.756402) and total_square_footage (0.665161).\n",
    "\n",
    "14. Sqft Lot15:\n",
    "\n",
    "    * Highly correlated with sqft_lot (0.718204).\n",
    "\n",
    "15. Grade Numeric:\n",
    "\n",
    "    * Highly correlated with price (0.667951) and sqft_living (0.762779).\n",
    "\n",
    "16. Age of House:\n",
    "\n",
    "    * Negatively correlated with price (-0.053953) and grade_numeric (-0.199762).\n",
    "\n",
    "17. Renovation Age:\n",
    "\n",
    "    * Shows low correlation with most features.\n",
    "\n",
    "18. Total Square Footage:\n",
    "\n",
    "    * Very highly correlated with sqft_living (0.941166)."
   ]
  },
  {
   "cell_type": "markdown",
   "metadata": {},
   "source": [
    "### Visualizing The Correlation Matrix"
   ]
  },
  {
   "cell_type": "code",
   "execution_count": null,
   "metadata": {},
   "outputs": [],
   "source": [
    "# Plotting the correlation heatmap\n",
    "plt.figure(figsize=(12, 10))\n",
    "sns.heatmap(correlation_matrix, annot=True, cmap='coolwarm', linewidths=0.5, fmt=\".2f\")\n",
    "plt.title('Correlation Matrix Heatmap')\n",
    "plt.show()\n"
   ]
  },
  {
   "cell_type": "markdown",
   "metadata": {},
   "source": [
    "## Calculating correlation of columns with price"
   ]
  },
  {
   "cell_type": "code",
   "execution_count": null,
   "metadata": {},
   "outputs": [],
   "source": []
  },
  {
   "cell_type": "code",
   "execution_count": null,
   "metadata": {},
   "outputs": [],
   "source": [
    "# Extract correlations with price and sort them in descending order\n",
    "price_correlations = correlation_matrix['price'].sort_values(ascending=False)\n",
    "\n",
    "# Select only positive correlations\n",
    "positive_price_correlations = price_correlations[price_correlations > 0]\n",
    "\n",
    "# select only negative correlations\n",
    "negative_price_correlations = price_correlations[price_correlations < 0]\n",
    "\n",
    "# show them\n",
    "positive_price_correlations, negative_price_correlations"
   ]
  },
  {
   "cell_type": "markdown",
   "metadata": {},
   "source": [
    "**Top Correlations with price**:\n",
    "\n",
    "1. `sqft_living`             0.701917\n",
    "2. `total_square_footage`    0.668185\n",
    "3. `grade_numeric`           0.667951\n",
    "4. `sqft_above`              0.605368\n",
    "5. `sqft_living15`           0.585241\n",
    "6. `bathrooms`               0.519628\n",
    "7. `view`                    0.393497\n",
    "8. `sqft_basement`           0.321108\n",
    "9. `bedrooms`                0.308787\n",
    "10. `waterfront`              0.264306\n",
    "11. `floors`                  0.244832\n",
    "12. `yr_renovated`            0.117855\n",
    "13. `sqft_lot`                0.089876\n",
    "14. `sqft_lot15`              0.082845\n",
    "15. `renovation_age`          0.082779\n",
    "16. `yr_built`                0.053953\n",
    "17. `condition`               0.036056\n",
    "\n",
    "**Negative correlation with price**\n",
    "\n",
    "18. `age_of_house`   -0.053953"
   ]
  },
  {
   "cell_type": "markdown",
   "metadata": {},
   "source": [
    "## Visualizing the correlations with price"
   ]
  },
  {
   "cell_type": "code",
   "execution_count": null,
   "metadata": {},
   "outputs": [],
   "source": [
    "# List of columns to plot against price\n",
    "columns_to_plot = [\n",
    "    'sqft_living', 'total_square_footage', 'grade_numeric', 'sqft_above', \n",
    "    'sqft_living15', 'bathrooms', 'view', 'sqft_basement', 'bedrooms', \n",
    "    'waterfront', 'floors', 'yr_renovated', 'sqft_lot', 'sqft_lot15', \n",
    "    'renovation_age', 'yr_built', 'condition', 'age_of_house'\n",
    "]\n",
    "\n",
    "# Number of columns\n",
    "num_cols = len(columns_to_plot)\n",
    "\n",
    "# Set up the plot grid\n",
    "fig, axes = plt.subplots(nrows=6, ncols=3, figsize=(15, 25))\n",
    "\n",
    "# Flatten the axes array for easy iteration\n",
    "axes = axes.flatten()\n",
    "\n",
    "# Plot each column against price\n",
    "for i, col in enumerate(columns_to_plot):\n",
    "    ax = axes[i]\n",
    "    sns.scatterplot(data=data, x=col, y='price', ax=ax)\n",
    "    # Calculate the correlation coefficient\n",
    "    corr_coef = np.corrcoef(data[col], data['price'])[0, 1]\n",
    "    # Plot the red line for correlation\n",
    "    ax.plot(np.unique(data[col]), np.poly1d(np.polyfit(data[col], data['price'], 1))(np.unique(data[col])), color='red')\n",
    "    ax.set_title(f'{col} vs Price\\n(Correlation: {corr_coef:.2f})')\n",
    "    ax.set_xlabel(col)\n",
    "    ax.set_ylabel('Price')\n",
    "\n",
    "# Remove any unused subplots\n",
    "for j in range(i + 1, len(axes)):\n",
    "    fig.delaxes(axes[j])\n",
    "\n",
    "plt.tight_layout()\n",
    "plt.show()"
   ]
  },
  {
   "cell_type": "markdown",
   "metadata": {},
   "source": [
    "## Checking for outliers"
   ]
  },
  {
   "cell_type": "code",
   "execution_count": null,
   "metadata": {},
   "outputs": [],
   "source": [
    "# Function to detect outliers using the IQR method\n",
    "def detect_outliers_iqr(df, column):\n",
    "    Q1 = df[column].quantile(0.25)\n",
    "    Q3 = df[column].quantile(0.75)\n",
    "    IQR = Q3 - Q1\n",
    "    lower_bound = Q1 - 1.5 * IQR\n",
    "    upper_bound = Q3 + 1.5 * IQR\n",
    "    outliers = df[(df[column] < lower_bound) | (df[column] > upper_bound)]\n",
    "    return outliers\n",
    "\n",
    "# Columns to check for outliers\n",
    "columns_to_check = [\n",
    "    'price', 'sqft_living', 'total_square_footage', 'grade_numeric', 'sqft_above', \n",
    "    'sqft_living15', 'bathrooms', 'view', 'sqft_basement', 'bedrooms', \n",
    "    'waterfront', 'floors', 'yr_renovated', 'sqft_lot', 'sqft_lot15', \n",
    "    'renovation_age', 'yr_built', 'condition', 'age_of_house'\n",
    "]\n",
    "\n",
    "# Detect outliers for each column\n",
    "outliers_dict = {col: detect_outliers_iqr(data, col) for col in columns_to_check}\n",
    "\n",
    "# Summarize the number of outliers for each column\n",
    "outliers_summary = {col: len(outliers) for col, outliers in outliers_dict.items()}\n",
    "\n",
    "# Display the summary of outliers\n",
    "outliers_summary_df = pd.DataFrame.from_dict(outliers_summary, orient='index', columns=['Number of Outliers'])\n",
    "print(outliers_summary_df)"
   ]
  },
  {
   "cell_type": "code",
   "execution_count": null,
   "metadata": {},
   "outputs": [],
   "source": [
    "import seaborn as sns\n",
    "import matplotlib.pyplot as plt\n",
    "\n",
    "# Columns to check for outliers\n",
    "columns_to_check = [\n",
    "    'price', 'sqft_living', 'total_square_footage', 'grade_numeric', 'sqft_above', \n",
    "    'sqft_living15', 'bathrooms', 'view', 'sqft_basement', 'bedrooms', \n",
    "    'waterfront', 'floors', 'yr_renovated', 'sqft_lot', 'sqft_lot15', \n",
    "    'renovation_age', 'yr_built', 'condition'\n",
    "]\n",
    "\n",
    "# Set up the plot grid\n",
    "fig, axes = plt.subplots(nrows=6, ncols=3, figsize=(20, 25))\n",
    "\n",
    "# Flatten the axes array for easy iteration\n",
    "axes = axes.flatten()\n",
    "\n",
    "# Plot each column to visualize outliers\n",
    "for i, col in enumerate(columns_to_check):\n",
    "    ax = axes[i]\n",
    "    sns.boxplot(data=data, y=col, ax=ax)\n",
    "    ax.set_title(f'Boxplot of {col}')\n",
    "    ax.set_ylabel(col)\n",
    "\n",
    "# Remove any unused subplots\n",
    "for j in range(i + 1, len(axes)):\n",
    "    fig.delaxes(axes[j])\n",
    "\n",
    "plt.tight_layout()\n",
    "plt.show()\n"
   ]
  },
  {
   "cell_type": "markdown",
   "metadata": {},
   "source": [
    "The dataset's shape before and after outlier removal:\n",
    "\n",
    "**Original Shape**: 21,597 rows, 21 columns\n",
    "\n",
    "**Cleaned Shape**: 19,388 rows, 21 columns"
   ]
  },
  {
   "cell_type": "markdown",
   "metadata": {},
   "source": [
    "Here, only `total_sqft` shows a positive correlation that can be useful in our modeling"
   ]
  },
  {
   "cell_type": "markdown",
   "metadata": {},
   "source": [
    "# Simple Liner Regression Model\n",
    "For our first simple regression model, we will use `sqft_living`, since it showed the highest correlation.\n",
    "\n",
    "## `sqft_living` as the predictor (corr: 0.7019)\n",
    "\n",
    "1. We'll split the dataset into training and testing sets using an 80-20 split.\n",
    "\n",
    "2. Then we train the model\n",
    "\n",
    "3. and make predictions using the trained model.\n",
    "\n",
    "4. Finally we evaluate the performance of the model."
   ]
  },
  {
   "cell_type": "code",
   "execution_count": null,
   "metadata": {},
   "outputs": [],
   "source": [
    "from sklearn.model_selection import train_test_split\n",
    "from sklearn.linear_model import LinearRegression\n",
    "from sklearn.metrics import mean_absolute_error, mean_squared_error, r2_score\n",
    "\n",
    "# Extract the feature and target variable\n",
    "X = data[['sqft_living']]\n",
    "y = data['price']\n",
    "\n",
    "# Split the data into training and testing sets (80-20 split)\n",
    "X_train, X_test, y_train, y_test = train_test_split(X, y, test_size=0.2, random_state=42)\n",
    "\n",
    "# Train the simple linear regression model\n",
    "model = LinearRegression()\n",
    "model.fit(X_train, y_train)\n",
    "\n",
    "# Make predictions on the test set\n",
    "y_pred = model.predict(X_test)\n",
    "\n",
    "# Evaluate the model performance\n",
    "mae = mean_absolute_error(y_test, y_pred)\n",
    "mse = mean_squared_error(y_test, y_pred)\n",
    "r2 = r2_score(y_test, y_pred)\n",
    "\n",
    "mae, mse, r2\n"
   ]
  },
  {
   "cell_type": "markdown",
   "metadata": {},
   "source": [
    "1. **Mean Absolute Error (MAE)**: 170,982\n",
    "\n",
    "    * On average, our predictions are off by about **$170,982**. \n",
    "\n",
    "2. **R-squared (R²)**: 0.4933\n",
    "    * The model explains about **49.33%** of the variance in house prices, showing that sqft_living is an important but not sufficient predictor on its own. There are many other factors affecting house prices that the model does not capture.\n",
    "\n",
    "### Visualization of this model's results"
   ]
  },
  {
   "cell_type": "code",
   "execution_count": null,
   "metadata": {},
   "outputs": [],
   "source": [
    "# Scatter plot of the actual house prices vs. sqft_living\n",
    "plt.figure(figsize=(10, 6))\n",
    "plt.scatter(X_test, y_test, color='blue', alpha=0.5, label='Actual Prices')\n",
    "\n",
    "# Plot the regression line\n",
    "plt.plot(X_test, y_pred, color='red', linewidth=2, label='Regression Line')\n",
    "\n",
    "# Add labels and title\n",
    "plt.xlabel('Square Footage of Living Space')\n",
    "plt.ylabel('House Price')\n",
    "plt.title('Linear Regression: House Price vs. Square Footage of Living Space')\n",
    "plt.legend()\n",
    "\n",
    "# Display the plot\n",
    "plt.show()"
   ]
  },
  {
   "cell_type": "markdown",
   "metadata": {},
   "source": [
    "The blue points represent the actual prices, and the red line represents the regression line obtained from our linear regression model.\n",
    "\n",
    "### Plotting the residuals"
   ]
  },
  {
   "cell_type": "code",
   "execution_count": null,
   "metadata": {},
   "outputs": [],
   "source": [
    "# Calculate residuals\n",
    "residuals = y_test - y_pred\n",
    "\n",
    "# Create a residual plot\n",
    "plt.figure(figsize=(10, 6))\n",
    "plt.scatter(y_pred, residuals, color='blue', alpha=0.5)\n",
    "plt.axhline(y=0, color='red', linestyle='--', linewidth=2)\n",
    "\n",
    "# Add labels and title\n",
    "plt.xlabel('Predicted House Prices')\n",
    "plt.ylabel('Residuals')\n",
    "plt.title('Residual Plot: Predicted House Prices vs. Residuals')\n",
    "\n",
    "# Display the plot\n",
    "plt.show()"
   ]
  },
  {
   "cell_type": "markdown",
   "metadata": {},
   "source": [
    "### Observations:\n",
    "1. **Funnel Shape:** \n",
    "    * The residuals appear to spread out more as the predicted house prices increase, suggesting heteroscedasticity. This means the variance of the errors increases with the predicted value.\n",
    "\n",
    "2. **Randomness**: \n",
    "    * While there is some randomness in the residuals, the increasing spread is a concern.\n",
    "\n",
    "3. **Outliers**: \n",
    "    There are some large residuals (both positive and negative), indicating that there are predictions that are significantly off from the actual values.\n",
    "\n",
    "### Implications:\n",
    "* **Model Fit**: The model might not be capturing all the complexity of the data, particularly for higher-priced houses.\n",
    "\n",
    "* **Model Improvement**: Consider transforming the dependent variable, using a different model, or addressing heteroscedasticity (e.g., using weighted least squares).\n"
   ]
  },
  {
   "cell_type": "markdown",
   "metadata": {},
   "source": [
    "### Removing outliers"
   ]
  },
  {
   "cell_type": "code",
   "execution_count": null,
   "metadata": {},
   "outputs": [],
   "source": [
    "# Function to remove outliers using the IQR method\n",
    "def remove_outliers_iqr(df, column):\n",
    "    Q1 = df[column].quantile(0.25)\n",
    "    Q3 = df[column].quantile(0.75)\n",
    "    IQR = Q3 - Q1\n",
    "    lower_bound = Q1 - 1.5 * IQR\n",
    "    upper_bound = Q3 + 1.5 * IQR\n",
    "    df = df[(df[column] >= lower_bound) & (df[column] <= upper_bound)]\n",
    "    return df\n",
    "\n",
    "# Removing Outliers\n",
    "for col in columns_to_check:\n",
    "    data_without_outliers = remove_outliers_iqr(data, col)\n",
    "\n",
    "# Confirm the number of rows remaining after removing outliers\n",
    "print(data_without_outliers.shape)"
   ]
  },
  {
   "cell_type": "markdown",
   "metadata": {},
   "source": [
    "### Simple Regression without outliers"
   ]
  },
  {
   "cell_type": "code",
   "execution_count": null,
   "metadata": {},
   "outputs": [],
   "source": [
    "# Extract the feature and target variable\n",
    "X = data_without_outliers[['sqft_living']]\n",
    "y = data_without_outliers['price']\n",
    "\n",
    "# Split the data into training and testing sets (80-20 split)\n",
    "X_train, X_test, y_train, y_test = train_test_split(X, y, test_size=0.2, random_state=42)\n",
    "\n",
    "# Train the simple linear regression model\n",
    "model = LinearRegression()\n",
    "model.fit(X_train, y_train)\n",
    "\n",
    "# Make predictions on the test set\n",
    "y_pred = model.predict(X_test)\n",
    "\n",
    "# Evaluate the model performance\n",
    "mae = mean_absolute_error(y_test, y_pred)\n",
    "mse = mean_squared_error(y_test, y_pred)\n",
    "r2 = r2_score(y_test, y_pred)\n",
    "\n",
    "mae, mse, r2\n"
   ]
  },
  {
   "cell_type": "markdown",
   "metadata": {},
   "source": [
    "# Multiple Linear Regression Model"
   ]
  },
  {
   "cell_type": "code",
   "execution_count": null,
   "metadata": {},
   "outputs": [],
   "source": [
    "selected_predictors = [\n",
    "    'price', 'sqft_living', 'total_square_footage', 'grade_numeric', 'sqft_above', \n",
    "    'sqft_living15', 'bathrooms', 'view', 'sqft_basement', 'bedrooms', \n",
    "    'waterfront', 'floors', 'yr_renovated', 'sqft_lot', 'sqft_lot15', \n",
    "    'renovation_age', 'yr_built', 'condition', 'age_of_house'\n",
    "]"
   ]
  },
  {
   "cell_type": "code",
   "execution_count": null,
   "metadata": {},
   "outputs": [],
   "source": [
    "from sklearn.preprocessing import StandardScaler\n",
    "\n",
    "# Define the best feature set and the target variable\n",
    "X_multiple = data[selected_predictors]\n",
    "y = data['price']\n",
    "\n",
    "# Split the dataset into training and testing sets (80-20 split)\n",
    "X_train, X_test, y_train, y_test = train_test_split(X_multiple, y, test_size=0.2, random_state=42)\n",
    "\n",
    "# Standardize the features\n",
    "scaler = StandardScaler()\n",
    "X_train_scaled = scaler.fit_transform(X_train)\n",
    "X_test_scaled = scaler.transform(X_test)\n",
    "\n",
    "# Train the multiple linear regression model\n",
    "model = LinearRegression()\n",
    "model.fit(X_train_scaled, y_train)\n",
    "\n",
    "# Make predictions on the test set\n",
    "y_pred = model.predict(X_test_scaled)\n",
    "\n",
    "# Evaluate the model performance\n",
    "mse = mean_squared_error(y_test, y_pred)\n",
    "r2 = r2_score(y_test, y_pred)\n",
    "mae = mean_absolute_error(y_test, y_pred)\n",
    "\n",
    "mse, r2, mae\n"
   ]
  },
  {
   "cell_type": "markdown",
   "metadata": {},
   "source": [
    "Interpretation:\n",
    "1. **R-squared** (R2 = 1.0):\n",
    "\n",
    "    * An R-squared value of 1.0 indicates a perfect fit. \n",
    "    \n",
    "    * This means the model explains all the variability in the target variable. This is extremely rare in practical scenarios and suggests that the model might be overfitting, especially if the training data is not representative of the broader dataset.\n",
    "\n",
    "2. **Mean Squared Error** (MSE ≈ 0):\n",
    "\n",
    "    * The MSE is very close to zero, indicating that the predicted values are very close to the actual values. \n",
    "\n",
    "    * However, this also suggests overfitting if it is too good to be true.\n",
    "\n",
    "3. Mean Absolute Error (MAE ≈ 0):\n",
    "\n",
    "    * Similarly, the MAE being extremely low indicates that the average absolute difference between the predicted and actual values is very small."
   ]
  },
  {
   "cell_type": "code",
   "execution_count": null,
   "metadata": {},
   "outputs": [],
   "source": []
  }
 ],
 "metadata": {
  "kernelspec": {
   "display_name": "learn-env",
   "language": "python",
   "name": "python3"
  },
  "language_info": {
   "codemirror_mode": {
    "name": "ipython",
    "version": 3
   },
   "file_extension": ".py",
   "mimetype": "text/x-python",
   "name": "python",
   "nbconvert_exporter": "python",
   "pygments_lexer": "ipython3",
   "version": "3.9.19"
  }
 },
 "nbformat": 4,
 "nbformat_minor": 2
}
